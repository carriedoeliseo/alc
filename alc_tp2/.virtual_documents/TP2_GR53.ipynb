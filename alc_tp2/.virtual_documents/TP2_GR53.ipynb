import matplotlib.pyplot as plt
import numpy as np
import pandas as pd


A = pd.read_csv('tabla_nutricional.csv', sep=';')
A


from funciones import *


A_prima = corregir_tabla_nutricional(A)
A_prima = proporciones_por_gramo(A)
A_prima


# Normalizamos la tabla nutricional
def normalizar_tabla (data):
    '''
    Restamos la media y dividimos por la desviación estandar:
        data_media = secuencia del promedio de cada fila.
        data_destand = secuencia de la desviación estandar de cada fila.
        data_norm = matriz de entrada normalizada.
    '''

    n = data.shape[0]

    # Promedio de todas las filas:
    data_media = np.sum(data, axis=0) / n
    # Desviacion estandar de todas las filas:
    data_destand = np.sqrt(np.sum((data - data_media)**2, axis=0) / n)         
    # Normalizo:
    data_norm = (data - data_media)/data_destand

    return data_norm, data_media, data_destand


# Nos quedamos con la información numerica representativa (me deshago de los nombres de los alimentos, y de la columna "Cantidad")
Aa = A_prima.iloc[:,2:].values
Aa.shape


n = Aa.shape[0]
MCov = MCov = Aa.T @ Aa / n

fig, ax = plt.subplots(figsize=(10,10))
im = ax.imshow(MCov, cmap= 'BuGn')
for i in range(MCov.shape[0]):
    for j in range(MCov.shape[1]):
        text = ax.text(j, i, MCov[i, j].round(2),
                       ha="center", va="center", color="black")
plt.show()


fig, ax = plt.subplots()
ax.scatter(Aa[:,0], Aa[:,1], alpha=0.5, color='red')
plt.title('Datos sin normalizar')
plt.show()


A_norm = normalizar_tabla(Aa)[0]
fig, ax = plt.subplots()
ax.scatter(A_norm[:,0], A_norm[:,1], alpha=0.5, color='red')
ax.hlines(y=0, xmin=-0.8, xmax=0.2, linestyle='--', color='black')
ax.vlines(x=0, ymin=-1, ymax=4.5, linestyle='--', color='black')
plt.title('Datos normalizados')
plt.show()


media_norm = normalizar_tabla(A_norm)[1].round(3)
destand_norm = normalizar_tabla(A_norm)[2]
print(media_norm,destand_norm)


# Calculo matriz de covarianza
n = A_norm.shape[0]
Cov = A_norm.T @ A_norm / n

fig, ax = plt.subplots(figsize=(10,10))
im = ax.imshow(Cov, cmap= 'BuGn')
for i in range(Cov.shape[0]):
    for j in range(Cov.shape[1]):
        text = ax.text(j, i, Cov[i, j].round(2),
                       ha="center", va="center", color="black")
plt.show()


# Calculamos avals y avecs de la matriz de covarianza
Avals, Avecs = np.linalg.eigh(Cov)

# Ordenamos los autovalores de mayor a menor
idx = np.argsort (- Avals )
Avals = Avals[idx]
Avecs = Avecs[:, idx]


# Proyectamos A sobre los primeros dos autovectores
componentes_princ = Avecs[:,:3]
A_proy = (componentes_princ.T @ A_norm.T).T
A_proy.shape


text = A['Alimento']
fig, ax = plt.subplots(figsize=(15,7), subplot_kw={"projection": "3d"})
ax.scatter(A_proy[:,0], A_proy[:,1], A_proy[:,2], alpha=0.5, color='red')
for xi, yi, zi, texto in zip(A_proy[:,0], A_proy[:,1], A_proy[:,2], text):
    ax.text(xi, yi, zi, texto, size=10)
plt.title('PCA Tabla nutricional')
plt.show()


text = A['Alimento']
fig, ax = plt.subplots(figsize=(15,7))
ax.scatter(A_proy[:,0], A_proy[:,1], alpha=0.5, color='red')
#for xi, yi, zi, texto in zip(A_proy[:,0], A_proy[:,1], A_proy[:,2], text):
#    ax.text(xi, yi, zi, texto, size=10)
plt.title('PCA Tabla nutricional')
plt.show()





consumidores_libres = pd.read_csv('consumidores_libres.csv', sep=';')
consumidores_libres


# Nos quedamos con los alimentos de tabla nutricional que están en consumidores libres
B = nutricional_consumidores_libres(A_prima)
B


# Nos quedamos con la información numerica representativa (me deshago de los nombres de los alimentos, y de la columna "Cantidad")
Bb = B.iloc[:,2:].values

# Proyectamos la matriz B sobre el PCA anterior
B_proy = Bb @ (Avecs[:3].T)
B_proy.shape


text = B['Alimento']
fig, ax = plt.subplots(figsize=(15,7), subplot_kw={"projection": "3d"})
ax.scatter(B_proy[:,0], B_proy[:,1], B_proy[:,2], color='red')
for xi, yi, zi, texto in zip(B_proy[:,0], B_proy[:,1], B_proy[:,2], text):
    ax.text(xi, yi, zi, texto, size=10)
plt.title('PCA Consumidores Libres')
plt.show()



